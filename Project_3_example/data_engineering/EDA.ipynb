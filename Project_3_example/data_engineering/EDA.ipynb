{
 "cells": [
  {
   "cell_type": "code",
   "execution_count": null,
   "id": "165a8069-4f90-4866-92ad-1959f7350763",
   "metadata": {},
   "outputs": [],
   "source": [
    "# data science\n",
    "import matplotlib.pyplot as plt\n",
    "import pandas as pd\n",
    "import numpy as np\n",
    "import seaborn as sns\n",
    "import datetime\n",
    "\n",
    "# API\n",
    "import requests\n",
    "import json\n",
    "\n",
    "# Python SQL toolkit and Object Relational Mapper\n",
    "import sqlalchemy\n",
    "from sqlalchemy.ext.automap import automap_base\n",
    "from sqlalchemy.orm import Session\n",
    "from sqlalchemy import create_engine, text, inspect, func"
   ]
  },
  {
   "cell_type": "code",
   "execution_count": null,
   "id": "2f215fe5-0443-40f0-9b97-a67d807f1d80",
   "metadata": {},
   "outputs": [],
   "source": [
    "# Create engine using the `spacex.sqlite` database file\n",
    "engine = create_engine(\"sqlite:///spacex.sqlite\")"
   ]
  },
  {
   "cell_type": "code",
   "execution_count": null,
   "id": "f30901bc-531e-4b33-ae8c-fcf3fda1beb5",
   "metadata": {},
   "outputs": [],
   "source": [
    "# INSPECT to confirm existence\n",
    "\n",
    "# Create the inspector and connect it to the engine\n",
    "inspector_gadget = inspect(engine)\n",
    "\n",
    "# Collect the names of tables within the database\n",
    "tables = inspector_gadget.get_table_names()\n",
    "\n",
    "# print metadata for each table\n",
    "for table in tables:\n",
    "    print(table)\n",
    "    print(\"-----------\")\n",
    "    \n",
    "    # get columns\n",
    "    columns = inspector_gadget.get_columns(table)\n",
    "    for column in columns:\n",
    "        print(column[\"name\"], column[\"type\"])\n",
    "\n",
    "    print()"
   ]
  },
  {
   "cell_type": "code",
   "execution_count": null,
   "id": "bc4d0acb-4601-407c-8dd6-023cb64f7b4c",
   "metadata": {},
   "outputs": [],
   "source": [
    "# user inputs\n",
    "user_region = 'All'\n",
    "user_min_attempts = 0\n",
    "\n",
    "# switch on user_region\n",
    "if user_region == 'All':\n",
    "    where_clause = \"and 1=1\"\n",
    "else:\n",
    "    where_clause = f\"and region = '{user_region}'\"\n",
    "\n",
    "# build the query\n",
    "query = f\"\"\"\n",
    "    SELECT\n",
    "        name,\n",
    "        full_name,\n",
    "        region,\n",
    "        latitude,\n",
    "        longitude,\n",
    "        launch_attempts,\n",
    "        launch_successes,\n",
    "        launch_attempts - launch_successes as launch_failures\n",
    "    FROM\n",
    "        launchpads\n",
    "    WHERE\n",
    "        launch_attempts >= {user_min_attempts}\n",
    "        {where_clause}\n",
    "    ORDER BY\n",
    "        launch_attempts DESC;\n",
    "\"\"\"\n",
    "\n",
    "# execute query\n",
    "map_df = pd.read_sql(text(query), con=engine)\n",
    "map_df.head(10)"
   ]
  },
  {
   "cell_type": "code",
   "execution_count": null,
   "id": "b1ffffa4-ea83-453c-b1e1-ef3c9e290258",
   "metadata": {},
   "outputs": [],
   "source": [
    "plt.figure(figsize=(10, 6))\n",
    "plt.barh(df.name, df.launch_attempts)\n",
    "plt.show()"
   ]
  },
  {
   "cell_type": "code",
   "execution_count": null,
   "id": "2ed0abdc-c6eb-4f03-823c-5d03d69fa208",
   "metadata": {},
   "outputs": [],
   "source": []
  },
  {
   "cell_type": "code",
   "execution_count": null,
   "id": "bd18f7f4-8f61-4711-86dd-b20163c8e68e",
   "metadata": {},
   "outputs": [],
   "source": []
  },
  {
   "cell_type": "code",
   "execution_count": null,
   "id": "ed19737e-05f3-437d-a08b-be3abcf21049",
   "metadata": {},
   "outputs": [],
   "source": []
  },
  {
   "cell_type": "code",
   "execution_count": null,
   "id": "9c4c5bc0-51af-4369-a8d3-044e728c4f1a",
   "metadata": {},
   "outputs": [],
   "source": []
  },
  {
   "cell_type": "code",
   "execution_count": null,
   "id": "5d4c3bb0-162a-4b49-bf6b-ecbdb62c71c9",
   "metadata": {},
   "outputs": [],
   "source": []
  },
  {
   "cell_type": "code",
   "execution_count": null,
   "id": "7d938316-5368-499b-b6dc-6811bed7838b",
   "metadata": {},
   "outputs": [],
   "source": []
  },
  {
   "cell_type": "code",
   "execution_count": null,
   "id": "4d79ef77-4cf6-4e44-a244-0ba7c2a9498a",
   "metadata": {},
   "outputs": [],
   "source": []
  }
 ],
 "metadata": {
  "kernelspec": {
   "display_name": "Python 3 (ipykernel)",
   "language": "python",
   "name": "python3"
  },
  "language_info": {
   "codemirror_mode": {
    "name": "ipython",
    "version": 3
   },
   "file_extension": ".py",
   "mimetype": "text/x-python",
   "name": "python",
   "nbconvert_exporter": "python",
   "pygments_lexer": "ipython3",
   "version": "3.10.14"
  }
 },
 "nbformat": 4,
 "nbformat_minor": 5
}
